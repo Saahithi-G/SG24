{
 "cells": [
  {
   "cell_type": "code",
   "execution_count": 1,
   "metadata": {},
   "outputs": [
    {
     "name": "stdout",
     "output_type": "stream",
     "text": [
      "They are the same\n"
     ]
    }
   ],
   "source": [
    "x = \"hello\"\n",
    "y = \"bye\"\n",
    "w = \"hello\"\n",
    "\n",
    "if (x == w) :\n",
    "    print(\"They are the same\")\n",
    "else: \n",
    "    print(\"They are not the same\")"
   ]
  },
  {
   "cell_type": "code",
   "execution_count": 6,
   "metadata": {},
   "outputs": [
    {
     "name": "stdout",
     "output_type": "stream",
     "text": [
      "Enter price: 10.5\n",
      "The total is:  17.32\n"
     ]
    }
   ],
   "source": [
    "price = float(input(\"Enter price: \"))\n",
    "tax = price * 0.65\n",
    "total = price + tax\n",
    "print(\"The total is: \", round(total, 2))"
   ]
  },
  {
   "cell_type": "code",
   "execution_count": 9,
   "metadata": {},
   "outputs": [
    {
     "name": "stdout",
     "output_type": "stream",
     "text": [
      "Enter price: 23\n",
      "Enter price: 34\n",
      "Enter price: 56\n"
     ]
    },
    {
     "data": {
      "text/plain": [
       "[37.95, 56.1, 92.4]"
      ]
     },
     "execution_count": 9,
     "metadata": {},
     "output_type": "execute_result"
    }
   ],
   "source": [
    "price = float(input(\"Enter price: \"))\n",
    "price1 = float(input(\"Enter price: \"))\n",
    "price2 = float(input(\"Enter price: \"))\n",
    "\n",
    "price = price * 1.65\n",
    "price1 = price1 * 1.65\n",
    "price2 = price2 * 1.65\n",
    "\n",
    "list1 = [round(price, 2), round(price1, 2), round(price2, 2)]\n",
    "list1\n"
   ]
  },
  {
   "cell_type": "code",
   "execution_count": 18,
   "metadata": {},
   "outputs": [
    {
     "name": "stdout",
     "output_type": "stream",
     "text": [
      "What is your income: 100\n",
      "Your income after tax is:  2.0\n"
     ]
    }
   ],
   "source": [
    "income = float(input(\"What is your income: \"))\n",
    "\n",
    "if income >= 400000:\n",
    "    income = income * .6\n",
    "elif income >= 300000:\n",
    "    income = income * .7\n",
    "elif income >= 20000:\n",
    "    income = income * .8\n",
    "elif income >= 10000:\n",
    "    income = income * .9\n",
    "else:\n",
    "    income = income * .02\n",
    "print(\"Your income after tax is: \", (round(income, 2)))"
   ]
  },
  {
   "cell_type": "code",
   "execution_count": null,
   "metadata": {},
   "outputs": [],
   "source": []
  }
 ],
 "metadata": {
  "kernelspec": {
   "display_name": "Python 3",
   "language": "python",
   "name": "python3"
  },
  "language_info": {
   "codemirror_mode": {
    "name": "ipython",
    "version": 3
   },
   "file_extension": ".py",
   "mimetype": "text/x-python",
   "name": "python",
   "nbconvert_exporter": "python",
   "pygments_lexer": "ipython3",
   "version": "3.8.5"
  }
 },
 "nbformat": 4,
 "nbformat_minor": 4
}
